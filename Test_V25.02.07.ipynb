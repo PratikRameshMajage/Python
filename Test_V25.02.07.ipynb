{
 "cells": [
  {
   "cell_type": "markdown",
   "id": "afc1c623-0e08-4622-bc1b-56651bd33fb9",
   "metadata": {},
   "source": [
    "# `Test V25.02.07`"
   ]
  },
  {
   "cell_type": "markdown",
   "id": "cdbfdb57-c5ba-4e94-93f4-e94c16214a3e",
   "metadata": {},
   "source": [
    "- `Q1. Create an Array and Display it?`"
   ]
  },
  {
   "cell_type": "code",
   "execution_count": null,
   "id": "78c29940-6775-4804-a5d4-a580f50985f9",
   "metadata": {},
   "outputs": [],
   "source": []
  },
  {
   "cell_type": "markdown",
   "id": "4dcd62cc-2f0c-4084-b649-afda3e287170",
   "metadata": {},
   "source": [
    "- `Q2. Create a file \"Coding.txt\"`"
   ]
  },
  {
   "cell_type": "code",
   "execution_count": null,
   "id": "8372874c-fb01-4906-999b-959ca4fdd1b6",
   "metadata": {},
   "outputs": [],
   "source": []
  },
  {
   "cell_type": "markdown",
   "id": "61178a78-da2e-4103-a1c2-0900bd07f206",
   "metadata": {},
   "source": [
    "- `Q3. Write 5 lines to \"Coding.txt\"`"
   ]
  },
  {
   "cell_type": "code",
   "execution_count": null,
   "id": "38610e38-a6b8-46ef-be46-70acb030a57d",
   "metadata": {},
   "outputs": [],
   "source": []
  },
  {
   "cell_type": "markdown",
   "id": "896d5fbe-7a4d-4908-b4b9-687e7ad95f85",
   "metadata": {},
   "source": [
    "- `Q4. Append 5 lines to \"Coding.txt\" and read it?`"
   ]
  },
  {
   "cell_type": "code",
   "execution_count": null,
   "id": "8bb15a77-459e-458c-a1f8-808d705c8a94",
   "metadata": {},
   "outputs": [],
   "source": []
  },
  {
   "cell_type": "markdown",
   "id": "532e5c84-5815-44f6-8aee-5996efaf1dc8",
   "metadata": {},
   "source": [
    "- `Q5. Open the file \"Coding.txt\" and write two lines in the same code? ` "
   ]
  },
  {
   "cell_type": "code",
   "execution_count": null,
   "id": "e5a676ce-65f2-4dd3-92b8-34a00c62dece",
   "metadata": {},
   "outputs": [],
   "source": []
  },
  {
   "cell_type": "markdown",
   "id": "7d7d1c06-b592-4257-a8a6-1e83c0ed8cce",
   "metadata": {},
   "source": [
    "- `Q6. Create an array of 2 elements and display them in reverse order.`"
   ]
  },
  {
   "cell_type": "code",
   "execution_count": null,
   "id": "375da87f-d0b5-4d8a-a5b4-43d31ea796fa",
   "metadata": {},
   "outputs": [],
   "source": []
  },
  {
   "cell_type": "markdown",
   "id": "5ba4c868-3c83-4f54-b6d7-698bac2be8ee",
   "metadata": {},
   "source": [
    "- `Q7. Display the array in assending order.`"
   ]
  },
  {
   "cell_type": "code",
   "execution_count": null,
   "id": "5beb38cc-75b0-4ca9-9f36-3394940a9bd9",
   "metadata": {},
   "outputs": [],
   "source": []
  },
  {
   "cell_type": "markdown",
   "id": "fd0b6f6f-7805-4b4b-a25b-1758185e4108",
   "metadata": {},
   "source": [
    "- `Q8. Perform positive and negative slicing and display entire array.`"
   ]
  },
  {
   "cell_type": "code",
   "execution_count": null,
   "id": "4e9e5bbb-b16a-460d-86b3-60ed06de5d77",
   "metadata": {},
   "outputs": [],
   "source": []
  },
  {
   "cell_type": "markdown",
   "id": "9ec2cac1-a6a8-444d-bf90-08e00e60c0bf",
   "metadata": {},
   "source": [
    "- `Q9. Create a 3-Dimentional array with 3 arrays, each with 2-dimentional array and display the last element of last array. `"
   ]
  },
  {
   "cell_type": "code",
   "execution_count": null,
   "id": "99a66521-55fc-4802-9ace-920dff248597",
   "metadata": {},
   "outputs": [],
   "source": []
  },
  {
   "cell_type": "markdown",
   "id": "a9d0cd49-3e0b-4d2b-95a9-487d894d2c43",
   "metadata": {},
   "source": [
    "- `Q10. Execute all Regular Expression Charecters.`"
   ]
  },
  {
   "cell_type": "code",
   "execution_count": null,
   "id": "7dc6d1ab-8cc5-4e8d-aae9-c4f30fa42718",
   "metadata": {},
   "outputs": [],
   "source": []
  },
  {
   "cell_type": "markdown",
   "id": "825753bb-5d5e-496a-a976-e8b2eea555f8",
   "metadata": {},
   "source": [
    "- `Q11. Display all the Functions of Time()`"
   ]
  },
  {
   "cell_type": "code",
   "execution_count": null,
   "id": "0e3e8759-bf17-41e3-86fe-44327a444c3b",
   "metadata": {},
   "outputs": [],
   "source": []
  },
  {
   "cell_type": "markdown",
   "id": "02bf6a52-e910-4bc3-ac35-9cfef8107b2f",
   "metadata": {},
   "source": [
    "- `Q12. Create 4 classes each with same method called as DateMethod() execute 4 Methods of date in each Method of a Class.`"
   ]
  },
  {
   "cell_type": "code",
   "execution_count": null,
   "id": "1ac40a8a-f5b2-40a4-aaf2-20b4934b3107",
   "metadata": {},
   "outputs": [],
   "source": []
  }
 ],
 "metadata": {
  "kernelspec": {
   "display_name": "Python 3 (ipykernel)",
   "language": "python",
   "name": "python3"
  },
  "language_info": {
   "codemirror_mode": {
    "name": "ipython",
    "version": 3
   },
   "file_extension": ".py",
   "mimetype": "text/x-python",
   "name": "python",
   "nbconvert_exporter": "python",
   "pygments_lexer": "ipython3",
   "version": "3.12.3"
  },
  "widgets": {
   "application/vnd.jupyter.widget-state+json": {
    "state": {},
    "version_major": 2,
    "version_minor": 0
   }
  }
 },
 "nbformat": 4,
 "nbformat_minor": 5
}
