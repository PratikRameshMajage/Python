{
 "cells": [
  {
   "cell_type": "markdown",
   "id": "afc1c623-0e08-4622-bc1b-56651bd33fb9",
   "metadata": {},
   "source": [
    "# `Test V25.02.07`"
   ]
  },
  {
   "cell_type": "markdown",
   "id": "176ca233-a9f6-4d5d-a9f5-999a08f39805",
   "metadata": {},
   "source": [
    "- `Array and File Handling`"
   ]
  },
  {
   "cell_type": "markdown",
   "id": "cdbfdb57-c5ba-4e94-93f4-e94c16214a3e",
   "metadata": {},
   "source": [
    "- `Q1. Create an Array and Display it?`"
   ]
  },
  {
   "cell_type": "code",
   "execution_count": 44,
   "id": "78c29940-6775-4804-a5d4-a580f50985f9",
   "metadata": {},
   "outputs": [
    {
     "name": "stdout",
     "output_type": "stream",
     "text": [
      "[0 1 2 3 4 5 6 7 8 9]\n",
      "1\n"
     ]
    }
   ],
   "source": [
    "import numpy as np\n",
    "arr = np.array([0,1,2,3,4,5,6,7,8,9])\n",
    "print(arr)\n",
    "print(arr.ndim)"
   ]
  },
  {
   "cell_type": "markdown",
   "id": "4dcd62cc-2f0c-4084-b649-afda3e287170",
   "metadata": {},
   "source": [
    "- `Q2. Create a file \"Coding.txt\"`"
   ]
  },
  {
   "cell_type": "code",
   "execution_count": 45,
   "id": "8372874c-fb01-4906-999b-959ca4fdd1b6",
   "metadata": {},
   "outputs": [],
   "source": [
    "obj = open(\"Coading.txt\",\"w\")\n",
    "obj.close()"
   ]
  },
  {
   "cell_type": "markdown",
   "id": "61178a78-da2e-4103-a1c2-0900bd07f206",
   "metadata": {},
   "source": [
    "- `Q3. Write 5 lines to \"Coding.txt\"`"
   ]
  },
  {
   "cell_type": "code",
   "execution_count": 49,
   "id": "38610e38-a6b8-46ef-be46-70acb030a57d",
   "metadata": {},
   "outputs": [],
   "source": [
    "obj = open(\"Coading.txt\",\"w\")\n",
    "obj.write(\"Pratik\")\n",
    "obj.write(\"\\nArchana\")\n",
    "obj.write(\"\\nPragati\")\n",
    "obj.write(\"\\nRamesh\")\n",
    "obj.write(\"\\nMajage\")\n",
    "obj.close()"
   ]
  },
  {
   "cell_type": "markdown",
   "id": "896d5fbe-7a4d-4908-b4b9-687e7ad95f85",
   "metadata": {},
   "source": [
    "- `Q4. Append 5 lines to \"Coding.txt\" and read it?`"
   ]
  },
  {
   "cell_type": "code",
   "execution_count": 50,
   "id": "8bb15a77-459e-458c-a1f8-808d705c8a94",
   "metadata": {},
   "outputs": [
    {
     "name": "stdout",
     "output_type": "stream",
     "text": [
      "Pratik\n",
      "Archana\n",
      "Pragati\n",
      "Ramesh\n",
      "Majage\n"
     ]
    }
   ],
   "source": [
    "obj = open(\"Coading.txt\",\"r\")\n",
    "data = obj.read()\n",
    "print(data)\n",
    "obj.close()"
   ]
  },
  {
   "cell_type": "markdown",
   "id": "532e5c84-5815-44f6-8aee-5996efaf1dc8",
   "metadata": {},
   "source": [
    "- `Q5. Open the file \"Coding.txt\" and write two lines in the same code? ` "
   ]
  },
  {
   "cell_type": "code",
   "execution_count": 51,
   "id": "e5a676ce-65f2-4dd3-92b8-34a00c62dece",
   "metadata": {},
   "outputs": [
    {
     "name": "stdout",
     "output_type": "stream",
     "text": [
      "Pratik\n",
      "Archana\n",
      "Pragati\n",
      "Ramesh\n",
      "Majage\n",
      "Nupur\n"
     ]
    }
   ],
   "source": [
    "obj = open(\"Coading.txt\",\"a\")\n",
    "obj.write(\"\\nNupur\")\n",
    "obj = open(\"Coading.txt\",\"r\")\n",
    "data = obj.read()\n",
    "print(data)"
   ]
  },
  {
   "cell_type": "markdown",
   "id": "7d7d1c06-b592-4257-a8a6-1e83c0ed8cce",
   "metadata": {},
   "source": [
    "- `Q6. Create an array of 2 elements and display them in reverse order.`"
   ]
  },
  {
   "cell_type": "code",
   "execution_count": 55,
   "id": "375da87f-d0b5-4d8a-a5b4-43d31ea796fa",
   "metadata": {},
   "outputs": [
    {
     "name": "stdout",
     "output_type": "stream",
     "text": [
      "[-3 -1]\n"
     ]
    }
   ],
   "source": [
    "import numpy as np\n",
    "a = np.array([1,3])\n",
    "b = np.sort(-a)\n",
    "print(b) \n",
    "#❌"
   ]
  },
  {
   "cell_type": "markdown",
   "id": "5ba4c868-3c83-4f54-b6d7-698bac2be8ee",
   "metadata": {},
   "source": [
    "- `Q7. Display the array in assending order.`"
   ]
  },
  {
   "cell_type": "code",
   "execution_count": 56,
   "id": "5beb38cc-75b0-4ca9-9f36-3394940a9bd9",
   "metadata": {},
   "outputs": [
    {
     "name": "stdout",
     "output_type": "stream",
     "text": [
      "[1 2 3 4 5]\n"
     ]
    }
   ],
   "source": [
    "import numpy as np\n",
    "a = np.array([5,1,4,3,2])\n",
    "b = np.sort(a)\n",
    "print(b)"
   ]
  },
  {
   "cell_type": "markdown",
   "id": "fd0b6f6f-7805-4b4b-a25b-1758185e4108",
   "metadata": {},
   "source": [
    "- `Q8. Perform positive and negative slicing and display entire array.`"
   ]
  },
  {
   "cell_type": "code",
   "execution_count": 57,
   "id": "4e9e5bbb-b16a-460d-86b3-60ed06de5d77",
   "metadata": {},
   "outputs": [
    {
     "name": "stdout",
     "output_type": "stream",
     "text": [
      "[1 2 3 4 5]\n",
      "[1 2 3 4 5]\n"
     ]
    }
   ],
   "source": [
    "import numpy as np\n",
    "a = np.array([1,2,3,4,5])\n",
    "print(a[0:6])\n",
    "print(a[-5:])"
   ]
  },
  {
   "cell_type": "markdown",
   "id": "9ec2cac1-a6a8-444d-bf90-08e00e60c0bf",
   "metadata": {},
   "source": [
    "- `Q9. Create a 3-Dimentional array with 3 arrays, each with 2-dimentional array and display the last element of last array. `"
   ]
  },
  {
   "cell_type": "code",
   "execution_count": 58,
   "id": "99a66521-55fc-4802-9ace-920dff248597",
   "metadata": {},
   "outputs": [
    {
     "name": "stdout",
     "output_type": "stream",
     "text": [
      "[[[ 1  2]\n",
      "  [ 3  4]]\n",
      "\n",
      " [[ 5  6]\n",
      "  [ 7  8]]\n",
      "\n",
      " [[ 9 10]\n",
      "  [11 12]]]\n",
      "3\n",
      "12\n"
     ]
    }
   ],
   "source": [
    "import numpy as np\n",
    "a = np.array([[[1,2],[3,4]],[[5,6],[7,8]],[[9,10],[11,12]]])\n",
    "print(a)\n",
    "print(a.ndim)\n",
    "print(a[-1,-1,-1])"
   ]
  },
  {
   "cell_type": "markdown",
   "id": "a9d0cd49-3e0b-4d2b-95a9-487d894d2c43",
   "metadata": {},
   "source": [
    "- `Regular Expression - Meta Chrecters`"
   ]
  },
  {
   "cell_type": "markdown",
   "id": "2e2fa85a-0625-40a2-a53b-b025d3a48493",
   "metadata": {},
   "source": [
    "- `Q10. Execute all Regular Expression Charecters.` "
   ]
  },
  {
   "cell_type": "markdown",
   "id": "330d5d86-b5bc-423b-a5f3-99debf536204",
   "metadata": {},
   "source": [
    "- `Search | Findall | Sub | Split`"
   ]
  },
  {
   "cell_type": "markdown",
   "id": "279423d7-b83d-4918-840f-feeb9a8c96c4",
   "metadata": {},
   "source": [
    "- `start : ^`"
   ]
  },
  {
   "cell_type": "code",
   "execution_count": 105,
   "id": "cba2aa3f-6b8c-469f-bc93-2289e08cafdb",
   "metadata": {},
   "outputs": [
    {
     "name": "stdout",
     "output_type": "stream",
     "text": [
      "<re.Match object; span=(0, 5), match='Pandu'>\n",
      "Found.\n"
     ]
    }
   ],
   "source": [
    "import re\n",
    "data = \"Pandu is good boy\"\n",
    "a = re.search(\"^Pandu\",data)\n",
    "print(a)\n",
    "if a:\n",
    "    print(\"Found.\")\n",
    "else:\n",
    "    print(\"Not Found.\")"
   ]
  },
  {
   "cell_type": "markdown",
   "id": "077f9649-5a88-45bc-98d6-51c22acb725f",
   "metadata": {},
   "source": [
    "- `end : $ `"
   ]
  },
  {
   "cell_type": "code",
   "execution_count": 109,
   "id": "7037f377-b9aa-4d17-9eb0-d81188b88b0f",
   "metadata": {},
   "outputs": [
    {
     "name": "stdout",
     "output_type": "stream",
     "text": [
      "<re.Match object; span=(14, 17), match='boy'>\n",
      "Found.\n"
     ]
    }
   ],
   "source": [
    "import re\n",
    "data = \"Pandu is good boy\"\n",
    "a = re.search(\"boy$\",data)\n",
    "print(a)\n",
    "if a:\n",
    "    print(\"Found.\")\n",
    "else:\n",
    "    print(\"Not Found.\")"
   ]
  },
  {
   "cell_type": "markdown",
   "id": "f74d6cac-2c4e-49f9-ba9c-6ecc6d22bde8",
   "metadata": {},
   "source": [
    "- `Remaining charecters : .*`"
   ]
  },
  {
   "cell_type": "code",
   "execution_count": 108,
   "id": "e0679694-e0e1-47f4-bc72-12935bf1f70e",
   "metadata": {},
   "outputs": [
    {
     "name": "stdout",
     "output_type": "stream",
     "text": [
      "<re.Match object; span=(0, 17), match='Pandu is good boy'>\n",
      "Found.\n"
     ]
    }
   ],
   "source": [
    "import re\n",
    "data = \"Pandu is good boy\"\n",
    "a = re.search(\"^Pandu.*boy$\",data)\n",
    "print(a)\n",
    "if a:\n",
    "    print(\"Found.\")\n",
    "else:\n",
    "    print(\"Not Found.\")"
   ]
  },
  {
   "cell_type": "code",
   "execution_count": 110,
   "id": "3facc606-c669-4e75-b134-f18e5d0ed9b6",
   "metadata": {},
   "outputs": [
    {
     "name": "stdout",
     "output_type": "stream",
     "text": [
      "['ain', 'ain']\n",
      "Found.\n"
     ]
    }
   ],
   "source": [
    "import re\n",
    "data = \"No Pain No Gain\"\n",
    "a = re.findall(\"ain\",data)\n",
    "print(a)\n",
    "if a:\n",
    "    print(\"Found.\")\n",
    "else:\n",
    "    print(\"Not Found.\")"
   ]
  },
  {
   "cell_type": "markdown",
   "id": "faf5634f-a07e-4b7d-87c9-64c8db99c797",
   "metadata": {},
   "source": [
    "- `No of Charecters : ...`"
   ]
  },
  {
   "cell_type": "code",
   "execution_count": 112,
   "id": "85f2b0c4-447a-49f6-aaab-c245279e17ec",
   "metadata": {},
   "outputs": [
    {
     "name": "stdout",
     "output_type": "stream",
     "text": [
      "['Hello']\n",
      "Found.\n"
     ]
    }
   ],
   "source": [
    "import re\n",
    "data = \"Hello Pandu, How are you?\"\n",
    "a = re.findall(\"H...o\",data)\n",
    "print(a)\n",
    "if a:\n",
    "    print(\"Found.\")\n",
    "else:\n",
    "    print(\"Not Found.\")"
   ]
  },
  {
   "cell_type": "code",
   "execution_count": 116,
   "id": "3599b7fb-2d54-4c69-b3b4-fb2fc8a65c80",
   "metadata": {},
   "outputs": [
    {
     "name": "stdout",
     "output_type": "stream",
     "text": [
      "[]\n",
      "Not Found.\n"
     ]
    }
   ],
   "source": [
    "import re\n",
    "data = \"Hello Pandu, How are you?\"\n",
    "a = re.findall(\"H..o\",data)\n",
    "print(a)\n",
    "if a:\n",
    "    print(\"Found.\")\n",
    "else:\n",
    "    print(\"Not Found.\")"
   ]
  },
  {
   "cell_type": "code",
   "execution_count": 117,
   "id": "c9d45b6f-1cdc-4181-9282-c719548dddd4",
   "metadata": {},
   "outputs": [
    {
     "name": "stdout",
     "output_type": "stream",
     "text": [
      "[]\n",
      "Not Found.\n"
     ]
    }
   ],
   "source": [
    "import re\n",
    "data = \"Hello Pandu, How are you?\"\n",
    "a = re.findall(\"H....o\",data)\n",
    "print(a)\n",
    "if a:\n",
    "    print(\"Found.\")\n",
    "else:\n",
    "    print(\"Not Found.\")"
   ]
  },
  {
   "cell_type": "code",
   "execution_count": 119,
   "id": "fb2781b2-66b2-4edc-8b69-78f722cedd37",
   "metadata": {},
   "outputs": [
    {
     "name": "stdout",
     "output_type": "stream",
     "text": [
      "[]\n",
      "Not Found.\n"
     ]
    }
   ],
   "source": [
    "import re\n",
    "data = \"Hello Pandu, How are you?\"\n",
    "a = re.findall(\"H....p\",data)\n",
    "print(a)\n",
    "if a:\n",
    "    print(\"Found.\")\n",
    "else:\n",
    "    print(\"Not Found.\")"
   ]
  },
  {
   "cell_type": "markdown",
   "id": "dd410d8a-6f04-4556-a48e-21500e7b850d",
   "metadata": {},
   "source": [
    "- `Specific No of charecters : {3}`"
   ]
  },
  {
   "cell_type": "code",
   "execution_count": 113,
   "id": "e314664b-a617-4cf9-9c12-e060dd5afd0c",
   "metadata": {},
   "outputs": [
    {
     "name": "stdout",
     "output_type": "stream",
     "text": [
      "['Hello']\n",
      "Found.\n"
     ]
    }
   ],
   "source": [
    "import re\n",
    "data = \"Hello Pandu, How are you?\"\n",
    "a = re.findall(\"H.{3}o\",data)\n",
    "print(a)\n",
    "if a:\n",
    "    print(\"Found.\")\n",
    "else:\n",
    "    print(\"Not Found.\")"
   ]
  },
  {
   "cell_type": "code",
   "execution_count": 114,
   "id": "a47e8529-d61a-4dae-9019-20c86e92a99b",
   "metadata": {},
   "outputs": [
    {
     "name": "stdout",
     "output_type": "stream",
     "text": [
      "[]\n",
      "Not Found.\n"
     ]
    }
   ],
   "source": [
    "import re\n",
    "data = \"Hello Pandu, How are you?\"\n",
    "a = re.findall(\"H.{4}o\",data)\n",
    "print(a)\n",
    "if a:\n",
    "    print(\"Found.\")\n",
    "else:\n",
    "    print(\"Not Found.\")"
   ]
  },
  {
   "cell_type": "markdown",
   "id": "02a30136-b533-480e-89f2-5100ef094016",
   "metadata": {},
   "source": [
    "- `0 or More than 1 charecter: .+`"
   ]
  },
  {
   "cell_type": "code",
   "execution_count": 115,
   "id": "72233f15-6bcf-46f8-9903-f9d138030c6d",
   "metadata": {},
   "outputs": [
    {
     "name": "stdout",
     "output_type": "stream",
     "text": [
      "['Hello Pandu, How are yo']\n",
      "Found.\n"
     ]
    }
   ],
   "source": [
    "import re\n",
    "data = \"Hello Pandu, How are you?\"\n",
    "a = re.findall(\"H.+o\",data)\n",
    "print(a)\n",
    "if a:\n",
    "    print(\"Found.\")\n",
    "else:\n",
    "    print(\"Not Found.\")"
   ]
  },
  {
   "cell_type": "markdown",
   "id": "38119f91-0edf-4437-a2de-4b6a0a155c9f",
   "metadata": {},
   "source": [
    "- `o or 1 charecter : ?`"
   ]
  },
  {
   "cell_type": "code",
   "execution_count": 130,
   "id": "b2f8791e-2d99-4844-b74d-5555b83562fe",
   "metadata": {},
   "outputs": [
    {
     "name": "stdout",
     "output_type": "stream",
     "text": [
      "['Hel']\n",
      "Found.\n"
     ]
    }
   ],
   "source": [
    "import re\n",
    "data = \"Hello Pandu, How are you?\"\n",
    "a = re.findall(\"H.?l\",data)\n",
    "print(a)\n",
    "if a:\n",
    "    print(\"Found.\")\n",
    "else:\n",
    "    print(\"Not Found.\")"
   ]
  },
  {
   "cell_type": "markdown",
   "id": "6e9c788b-43b0-424b-9455-374d4e862369",
   "metadata": {},
   "source": [
    "- `or : |`"
   ]
  },
  {
   "cell_type": "code",
   "execution_count": 121,
   "id": "6e70e5eb-031f-4eab-873d-05fd015f38e2",
   "metadata": {},
   "outputs": [
    {
     "name": "stdout",
     "output_type": "stream",
     "text": [
      "['Pandu']\n",
      "Found.\n"
     ]
    }
   ],
   "source": [
    "import re\n",
    "data = \"Hello Pandu, How are you?\"\n",
    "a = re.findall(\"Pandu|Pandi\",data)\n",
    "print(a)\n",
    "if a:\n",
    "    print(\"Found.\")\n",
    "else:\n",
    "    print(\"Not Found.\")"
   ]
  },
  {
   "cell_type": "code",
   "execution_count": 122,
   "id": "12bafa67-5b51-431c-a434-a5bea7a59c0d",
   "metadata": {},
   "outputs": [
    {
     "name": "stdout",
     "output_type": "stream",
     "text": [
      "[]\n",
      "Not Found.\n"
     ]
    }
   ],
   "source": [
    "import re\n",
    "data = \"Hello Pandu, How are you?\"\n",
    "a = re.findall(\"Bunty|Bandi\",data)\n",
    "print(a)\n",
    "if a:\n",
    "    print(\"Found.\")\n",
    "else:\n",
    "    print(\"Not Found.\")"
   ]
  },
  {
   "cell_type": "code",
   "execution_count": 124,
   "id": "0468c71d-4998-40c4-be84-1451e57072b4",
   "metadata": {},
   "outputs": [
    {
     "name": "stdout",
     "output_type": "stream",
     "text": [
      "No  Power No Gain\n"
     ]
    }
   ],
   "source": [
    "data = \"No Pain No Gain\"\n",
    "a = re.sub(\"Pain\",\"Power\",data)\n",
    "print(a)"
   ]
  },
  {
   "cell_type": "code",
   "execution_count": 126,
   "id": "f9bbb323-a46d-4e0a-9ea2-f4012b25fc74",
   "metadata": {},
   "outputs": [
    {
     "name": "stdout",
     "output_type": "stream",
     "text": [
      "['No', 'Pain', 'No', 'Gain']\n"
     ]
    }
   ],
   "source": [
    "data = \"No Pain No Gain\"\n",
    "a = re.split(\" \",data)\n",
    "print(a)"
   ]
  },
  {
   "cell_type": "code",
   "execution_count": 127,
   "id": "1191dc40-789c-4fad-9484-03809a8ad404",
   "metadata": {},
   "outputs": [
    {
     "name": "stdout",
     "output_type": "stream",
     "text": [
      "['No P', 'in No G', 'in']\n"
     ]
    }
   ],
   "source": [
    "data = \"No Pain No Gain\"\n",
    "a = re.split(\"a\",data)\n",
    "print(a)"
   ]
  },
  {
   "cell_type": "code",
   "execution_count": 128,
   "id": "32984beb-7dc7-4ac6-80f4-f69037c6bdab",
   "metadata": {},
   "outputs": [
    {
     "name": "stdout",
     "output_type": "stream",
     "text": [
      "['', 'N', 'o', ' ', 'P', 'a', 'i', 'n', ' ', 'N', 'o', ' ', 'G', 'a', 'i', 'n', '']\n"
     ]
    }
   ],
   "source": [
    "data = \"No Pain No Gain\"\n",
    "a = re.split(\"\",data)\n",
    "print(a)"
   ]
  },
  {
   "cell_type": "markdown",
   "id": "dffe537c-9f69-4690-9216-f44e49ec99fb",
   "metadata": {},
   "source": [
    "- `DateTime`"
   ]
  },
  {
   "cell_type": "markdown",
   "id": "825753bb-5d5e-496a-a976-e8b2eea555f8",
   "metadata": {},
   "source": [
    "- `Q11. Display all the Functions of Time()` "
   ]
  },
  {
   "cell_type": "code",
   "execution_count": 99,
   "id": "0e3e8759-bf17-41e3-86fe-44327a444c3b",
   "metadata": {},
   "outputs": [
    {
     "name": "stdout",
     "output_type": "stream",
     "text": [
      "2025-02-08 22:37:26.486633\n",
      "Sat Feb  8 22:37:26 2025\n",
      "------------------------------\n",
      "06\n",
      "6\n",
      "05\n",
      "------------------------------\n",
      "Sat\n",
      "Saturday\n",
      "------------------------------\n",
      "08\n",
      "02/08/25\n",
      "------------------------------\n",
      "Feb\n",
      "February\n",
      "------------------------------\n",
      "02\n",
      "------------------------------\n",
      "25\n",
      "2025\n",
      "------------------------------\n",
      "22\n",
      "37\n",
      "26\n",
      "486633\n",
      "------------------------------\n",
      "02/08/25\n",
      "22:37:26\n",
      "PM\n",
      "10\n"
     ]
    }
   ],
   "source": [
    "import datetime\n",
    "a = datetime.datetime.now()\n",
    "print(a)                # 2025-02-08 22:22:57.861960\n",
    "print(a.strftime(\"%c\")) # Sat Feb  8 22:22:57 2025\n",
    "print(\"------------------------------\")\n",
    "print(a.strftime(\"%V\")) # scequence of weeks Monday | Sunday\n",
    "print(a.strftime(\"%w\")) # 6\n",
    "print(a.strftime(\"%W\")) # 05\n",
    "print(\"------------------------------\")\n",
    "print(a.strftime(\"%a\")) # Sat\n",
    "print(a.strftime(\"%A\")) # Saturday\n",
    "print(\"------------------------------\")\n",
    "print(a.strftime(\"%d\")) # 08\n",
    "print(a.strftime(\"%D\")) # 02/08/25\n",
    "print(\"------------------------------\")\n",
    "print(a.strftime(\"%b\")) # Feb\n",
    "print(a.strftime(\"%B\")) # February\n",
    "print(\"------------------------------\")\n",
    "print(a.strftime(\"%m\")) # 02\n",
    "print(\"------------------------------\")\n",
    "print(a.strftime(\"%y\")) # 25\n",
    "print(a.strftime(\"%Y\")) # 2025\n",
    "print(\"------------------------------\")\n",
    "print(a.strftime(\"%H\")) # 22 Hours\n",
    "print(a.strftime(\"%M\")) # 27 Minutes\n",
    "print(a.strftime(\"%S\")) # 01 Seconds\n",
    "print(a.strftime(\"%f\")) # 861960 microseconds\n",
    "print(\"------------------------------\")\n",
    "print(a.strftime(\"%x\")) # date\n",
    "print(a.strftime(\"%X\")) # Time\n",
    "print(a.strftime(\"%p\")) # PM | AM\n",
    "print(a.strftime(\"%I\")) # 12 Hours Format "
   ]
  },
  {
   "cell_type": "markdown",
   "id": "b26a0ed1-fd8a-4161-8d01-959f0f273821",
   "metadata": {},
   "source": [
    "- `Polimorphism`"
   ]
  },
  {
   "cell_type": "markdown",
   "id": "02bf6a52-e910-4bc3-ac35-9cfef8107b2f",
   "metadata": {},
   "source": [
    "- `Q12. Create 4 classes each with same method called as DateMethod() execute 4 Methods of date in each Method of a Class.`"
   ]
  },
  {
   "cell_type": "code",
   "execution_count": 1,
   "id": "1ac40a8a-f5b2-40a4-aaf2-20b4934b3107",
   "metadata": {},
   "outputs": [
    {
     "name": "stdout",
     "output_type": "stream",
     "text": [
      "Class1:\n",
      "Current Date and Time: 2025-02-09 07:47:57.648482\n",
      "Today's Date: 2025-02-09\n",
      "Year: 2025\n",
      "Month: 2\n",
      "\n",
      "Class2:\n",
      "Day of the Week: Sunday\n",
      "Day of the Year: 40\n",
      "Week Number: 06\n",
      "ISO Calendar (Year, Week, Weekday): datetime.IsoCalendarDate(year=2025, week=6, weekday=7)\n",
      "\n",
      "Class3:\n",
      "Current Hour: 7\n",
      "Current Minute: 47\n",
      "Current Second: 57\n",
      "Current Microsecond: 649482\n",
      "\n",
      "Class4:\n",
      "Date 10 Days Later: 2025-02-19\n",
      "Date 10 Days Ago: 2025-01-30\n",
      "Formatted Date: 09-02-2025\n",
      "Time in 24-hour Format: 07:47:57\n",
      "\n"
     ]
    }
   ],
   "source": [
    "from datetime import datetime, timedelta\n",
    "\n",
    "class Class1:\n",
    "    def DateMethod(self):\n",
    "        print(\"Class1:\")\n",
    "        print(\"Current Date and Time:\", datetime.now())\n",
    "        print(\"Today's Date:\", datetime.today().date())\n",
    "        print(\"Year:\", datetime.now().year)\n",
    "        print(\"Month:\", datetime.now().month)\n",
    "        print()\n",
    "\n",
    "class Class2:\n",
    "    def DateMethod(self):\n",
    "        print(\"Class2:\")\n",
    "        today = datetime.today()\n",
    "        print(\"Day of the Week:\", today.strftime(\"%A\"))\n",
    "        print(\"Day of the Year:\", today.timetuple().tm_yday)\n",
    "        print(\"Week Number:\", today.strftime(\"%U\"))\n",
    "        print(\"ISO Calendar (Year, Week, Weekday):\", today.isocalendar())\n",
    "        print()\n",
    "\n",
    "class Class3:\n",
    "    def DateMethod(self):\n",
    "        print(\"Class3:\")\n",
    "        now = datetime.now()\n",
    "        print(\"Current Hour:\", now.hour)\n",
    "        print(\"Current Minute:\", now.minute)\n",
    "        print(\"Current Second:\", now.second)\n",
    "        print(\"Current Microsecond:\", now.microsecond)\n",
    "        print()\n",
    "\n",
    "class Class4:\n",
    "    def DateMethod(self):\n",
    "        print(\"Class4:\")\n",
    "        today = datetime.today()\n",
    "        future_date = today + timedelta(days=10)\n",
    "        past_date = today - timedelta(days=10)\n",
    "        print(\"Date 10 Days Later:\", future_date.date())\n",
    "        print(\"Date 10 Days Ago:\", past_date.date())\n",
    "        print(\"Formatted Date:\", today.strftime(\"%d-%m-%Y\"))\n",
    "        print(\"Time in 24-hour Format:\", today.strftime(\"%H:%M:%S\"))\n",
    "        print()\n",
    "\n",
    "# Creating objects of each class\n",
    "obj1 = Class1()\n",
    "obj2 = Class2()\n",
    "obj3 = Class3()\n",
    "obj4 = Class4()\n",
    "\n",
    "# Executing DateMethod() of each class\n",
    "obj1.DateMethod()\n",
    "obj2.DateMethod()\n",
    "obj3.DateMethod()\n",
    "obj4.DateMethod()"
   ]
  },
  {
   "cell_type": "markdown",
   "id": "23547e08-e4a6-4790-b4fd-be39bafba0f2",
   "metadata": {},
   "source": [
    "- `Polymorphism Example (Reusing Your Concept in Another Way):`"
   ]
  },
  {
   "cell_type": "code",
   "execution_count": 2,
   "id": "50691ca1-f243-460f-be80-35099254e60d",
   "metadata": {},
   "outputs": [
    {
     "name": "stdout",
     "output_type": "stream",
     "text": [
      "Class1 executing date methods...\n",
      "Class2 executing date methods...\n",
      "Class3 executing date methods...\n",
      "Class4 executing date methods...\n"
     ]
    }
   ],
   "source": [
    "# Defining a common interface\n",
    "class BaseClass:\n",
    "    def DateMethod(self):\n",
    "        pass  # Abstract method\n",
    "\n",
    "class Class1(BaseClass):\n",
    "    def DateMethod(self):\n",
    "        print(\"Class1 executing date methods...\")\n",
    "\n",
    "class Class2(BaseClass):\n",
    "    def DateMethod(self):\n",
    "        print(\"Class2 executing date methods...\")\n",
    "\n",
    "class Class3(BaseClass):\n",
    "    def DateMethod(self):\n",
    "        print(\"Class3 executing date methods...\")\n",
    "\n",
    "class Class4(BaseClass):\n",
    "    def DateMethod(self):\n",
    "        print(\"Class4 executing date methods...\")\n",
    "\n",
    "# Polymorphism in action\n",
    "objects = [Class1(), Class2(), Class3(), Class4()]\n",
    "\n",
    "for obj in objects:\n",
    "    obj.DateMethod()  # Calls the respective class's implementation"
   ]
  }
 ],
 "metadata": {
  "kernelspec": {
   "display_name": "Python 3 (ipykernel)",
   "language": "python",
   "name": "python3"
  },
  "language_info": {
   "codemirror_mode": {
    "name": "ipython",
    "version": 3
   },
   "file_extension": ".py",
   "mimetype": "text/x-python",
   "name": "python",
   "nbconvert_exporter": "python",
   "pygments_lexer": "ipython3",
   "version": "3.12.3"
  },
  "widgets": {
   "application/vnd.jupyter.widget-state+json": {
    "state": {},
    "version_major": 2,
    "version_minor": 0
   }
  }
 },
 "nbformat": 4,
 "nbformat_minor": 5
}
