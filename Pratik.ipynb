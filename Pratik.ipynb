{
 "cells": [
  {
   "cell_type": "code",
   "execution_count": 2,
   "id": "49178466-1a88-4286-9653-8d21d2a8a9a0",
   "metadata": {},
   "outputs": [
    {
     "name": "stdout",
     "output_type": "stream",
     "text": [
      "Hello Pratik\n"
     ]
    }
   ],
   "source": [
    "print(\"Hello Pratik\")"
   ]
  },
  {
   "cell_type": "code",
   "execution_count": 9,
   "id": "2bcde15e-ad05-49a2-98b2-0ca8e51f2212",
   "metadata": {},
   "outputs": [
    {
     "name": "stdout",
     "output_type": "stream",
     "text": [
      "<class 'int'>\n",
      "<class 'float'>\n",
      "<class 'complex'>\n"
     ]
    }
   ],
   "source": [
    "print(\"Numeric Data Type\")\n",
    "print(type(23))\n",
    "print(type(23.5))\n",
    "print(type(2+2j))"
   ]
  },
  {
   "cell_type": "code",
   "execution_count": 17,
   "id": "bb63d28b-2381-400b-80db-ba0242a66547",
   "metadata": {},
   "outputs": [
    {
     "name": "stdout",
     "output_type": "stream",
     "text": [
      "<class 'list'>\n",
      "<class 'tuple'>\n",
      "<class 'set'>\n",
      "<class 'dict'>\n"
     ]
    }
   ],
   "source": [
    "print(\"Sequential Data Type\"))"
   ]
  },
  {
   "cell_type": "code",
   "execution_count": 18,
   "id": "06ec8efa-b4cc-43a4-bdd0-5285533cae4b",
   "metadata": {},
   "outputs": [
    {
     "name": "stdout",
     "output_type": "stream",
     "text": [
      "<class 'str'>\n"
     ]
    }
   ],
   "source": [
    "print(type(\"Pratik\"))"
   ]
  },
  {
   "cell_type": "code",
   "execution_count": 20,
   "id": "df7bbea8-5831-42e9-8184-87df7c7677e3",
   "metadata": {},
   "outputs": [
    {
     "name": "stdout",
     "output_type": "stream",
     "text": [
      "<class 'bool'>\n"
     ]
    }
   ],
   "source": [
    "print(type(True))"
   ]
  },
  {
   "cell_type": "code",
   "execution_count": 26,
   "id": "c95864e7-1c6f-4ca7-a619-a3e504936aaf",
   "metadata": {},
   "outputs": [
    {
     "name": "stdin",
     "output_type": "stream",
     "text": [
      "Enter 1st Number:  5\n",
      "Enter 2nd Number:  2\n"
     ]
    },
    {
     "name": "stdout",
     "output_type": "stream",
     "text": [
      "Addition of two Number is:  7\n",
      "Subtraction of two Number is:  5\n",
      "Multiplication of two Number is:  10\n",
      "Division of two Number is:  5.0\n",
      "Floor Division of two Number is:  2.0\n",
      "Power of two Number is:  4.0\n"
     ]
    }
   ],
   "source": [
    "print(\"Assignment Arithmatic Operator\")\n",
    "num1 = int(input(\"Enter 1st Number: \"))\n",
    "num2 = int(input(\"Enter 2nd Number: \"))\n",
    "num1+=num2\n",
    "print(\"Addition of two Number is: \",num1)\n",
    "num1-=num2\n",
    "print(\"Subtraction of two Number is: \",num1)\n",
    "num1*=num2\n",
    "print(\"Multiplication of two Number is: \",num1)\n",
    "num1/=num2\n",
    "print(\"Division of two Number is: \",num1)\n",
    "num1//=num2\n",
    "print(\"Floor Division of two Number is: \",num1)\n",
    "num1**=num2\n",
    "print(\"Power of two Number is: \",num1)"
   ]
  },
  {
   "cell_type": "code",
   "execution_count": 28,
   "id": "1ec4b6b7-a689-4460-bc95-b7807f7b25d8",
   "metadata": {},
   "outputs": [
    {
     "name": "stdin",
     "output_type": "stream",
     "text": [
      "Enter 1st Number:  7\n",
      "Enter 2nd Number:  5\n"
     ]
    },
    {
     "name": "stdout",
     "output_type": "stream",
     "text": [
      "True\n",
      "False\n",
      "True\n",
      "False\n",
      "False\n",
      "True\n"
     ]
    }
   ],
   "source": [
    "print(\"Relational Operator\")\n",
    "print(num1>=num2)\n",
    "print(num1<=num2)\n",
    "print(num1==num2)\n",
    "print(num1!=num2)"
   ]
  },
  {
   "cell_type": "code",
   "execution_count": 36,
   "id": "2d941016-da7f-4d0c-b96a-4418e3694e67",
   "metadata": {},
   "outputs": [
    {
     "name": "stdout",
     "output_type": "stream",
     "text": [
      "True\n",
      "True\n",
      "False\n"
     ]
    }
   ],
   "source": [
    "print(\"Logical Operator\")\n",
    "print(44>=33 and 44>=22)\n",
    "print(22<=22 or 33<=33)\n",
    "print(not True)"
   ]
  },
  {
   "cell_type": "code",
   "execution_count": 46,
   "id": "8555f1fa-e03e-489b-ac05-625bcf972fe0",
   "metadata": {},
   "outputs": [
    {
     "name": "stdout",
     "output_type": "stream",
     "text": [
      "0b1111\n",
      "11\n",
      "15\n",
      "4\n",
      "-12\n",
      "0b11\n",
      "0b111100\n",
      "3\n",
      "60\n"
     ]
    }
   ],
   "source": [
    "print(\"Bitwise Operator\")\n",
    "print(bin(15))\n",
    "print(15 & 11)\n",
    "print(15 | 11)\n",
    "print(15 ^ 11)\n",
    "print(~11)\n",
    "print(bin(15>>2))\n",
    "print(bin(15<<2))\n",
    "print(15>>2)\n",
    "print(15<<2)"
   ]
  }
 ],
 "metadata": {
  "kernelspec": {
   "display_name": "Python 3 (ipykernel)",
   "language": "python",
   "name": "python3"
  },
  "language_info": {
   "codemirror_mode": {
    "name": "ipython",
    "version": 3
   },
   "file_extension": ".py",
   "mimetype": "text/x-python",
   "name": "python",
   "nbconvert_exporter": "python",
   "pygments_lexer": "ipython3",
   "version": "3.12.3"
  }
 },
 "nbformat": 4,
 "nbformat_minor": 5
}
