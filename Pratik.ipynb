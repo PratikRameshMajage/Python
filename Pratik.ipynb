{
 "cells": [
  {
   "cell_type": "markdown",
   "id": "a7d2b17b-0223-4cfc-a328-f9d629f99976",
   "metadata": {},
   "source": [
    "# `PYTHON NOTES: V25.01.08 `"
   ]
  },
  {
   "cell_type": "markdown",
   "id": "bb8eaedd-941d-46a6-bfbc-caab7ea1e750",
   "metadata": {},
   "source": [
    "## `Print() Function:`"
   ]
  },
  {
   "cell_type": "code",
   "execution_count": 3,
   "id": "49178466-1a88-4286-9653-8d21d2a8a9a0",
   "metadata": {},
   "outputs": [
    {
     "name": "stdout",
     "output_type": "stream",
     "text": [
      "Hello Pratik\n"
     ]
    }
   ],
   "source": [
    "print(\"Hello Pratik\")"
   ]
  },
  {
   "cell_type": "markdown",
   "id": "1cd27b1f-f308-421d-9419-883acbde97fd",
   "metadata": {},
   "source": [
    "## `Input() Function:`"
   ]
  },
  {
   "cell_type": "code",
   "execution_count": 44,
   "id": "eccc2005-d496-419d-8234-2532168543f1",
   "metadata": {},
   "outputs": [
    {
     "name": "stdin",
     "output_type": "stream",
     "text": [
      "Enter a Value:  23\n"
     ]
    },
    {
     "name": "stdout",
     "output_type": "stream",
     "text": [
      "23\n"
     ]
    }
   ],
   "source": [
    "value = input(\"Enter a Value: \")\n",
    "print(value)"
   ]
  },
  {
   "cell_type": "markdown",
   "id": "cc9583de-efc8-4b78-89f7-9f6f5015ff01",
   "metadata": {},
   "source": [
    "## `Type() Function:`"
   ]
  },
  {
   "cell_type": "code",
   "execution_count": 49,
   "id": "3f73114f-920f-4e68-bd8f-d137a0099a5e",
   "metadata": {},
   "outputs": [
    {
     "name": "stdout",
     "output_type": "stream",
     "text": [
      "<class 'int'>\n"
     ]
    },
    {
     "data": {
      "text/plain": [
       "int"
      ]
     },
     "execution_count": 49,
     "metadata": {},
     "output_type": "execute_result"
    }
   ],
   "source": [
    "print(type(24))\n",
    "type(24)"
   ]
  },
  {
   "cell_type": "markdown",
   "id": "5394a185-7433-44fb-a3a7-3b4c59d5b9b2",
   "metadata": {},
   "source": [
    "## `Data Types: V25.01.08`"
   ]
  },
  {
   "cell_type": "markdown",
   "id": "92600a77-1df0-44ce-9a81-cfbb0c908e90",
   "metadata": {},
   "source": [
    "1. `Numeric Data Type`"
   ]
  },
  {
   "cell_type": "code",
   "execution_count": 4,
   "id": "2bcde15e-ad05-49a2-98b2-0ca8e51f2212",
   "metadata": {},
   "outputs": [
    {
     "name": "stdout",
     "output_type": "stream",
     "text": [
      "Numeric Data Type\n",
      "<class 'int'>\n",
      "<class 'float'>\n",
      "<class 'complex'>\n"
     ]
    }
   ],
   "source": [
    "print(\"Numeric Data Type\")\n",
    "print(type(23))\n",
    "print(type(23.5))\n",
    "print(type(2+2j))"
   ]
  },
  {
   "cell_type": "markdown",
   "id": "774f658a-1629-446a-87a0-d8ec60641004",
   "metadata": {},
   "source": [
    "2. `Sequential Data Type`"
   ]
  },
  {
   "cell_type": "code",
   "execution_count": 23,
   "id": "bb63d28b-2381-400b-80db-ba0242a66547",
   "metadata": {},
   "outputs": [
    {
     "name": "stdout",
     "output_type": "stream",
     "text": [
      "Sequential Data Type\n",
      "<class 'list'>\n",
      "<class 'tuple'>\n",
      "<class 'set'>\n",
      "<class 'dict'>\n"
     ]
    }
   ],
   "source": [
    "print(\"Sequential Data Type\")\n",
    "print(type([22,22.3,2+2j]))\n",
    "print(type((22,22.3,2+2j)))\n",
    "print(type(set(\"aabbccdd\")))\n",
    "print(type({\"name\":\"Pratik\" ,\"age\":22}))"
   ]
  },
  {
   "cell_type": "markdown",
   "id": "de2178d0-d39b-4843-82d0-9202144bb88a",
   "metadata": {},
   "source": [
    "3. `String Data Type`"
   ]
  },
  {
   "cell_type": "code",
   "execution_count": 6,
   "id": "06ec8efa-b4cc-43a4-bdd0-5285533cae4b",
   "metadata": {},
   "outputs": [
    {
     "name": "stdout",
     "output_type": "stream",
     "text": [
      "<class 'str'>\n"
     ]
    }
   ],
   "source": [
    "print(\"String Data Type\")\n",
    "print(type(\"Pratik\"))"
   ]
  },
  {
   "cell_type": "markdown",
   "id": "a206a8cd-6d83-4a8e-97c9-2dfe15d7497f",
   "metadata": {},
   "source": [
    "4. `Boolean Data Type`"
   ]
  },
  {
   "cell_type": "code",
   "execution_count": 7,
   "id": "df7bbea8-5831-42e9-8184-87df7c7677e3",
   "metadata": {},
   "outputs": [
    {
     "name": "stdout",
     "output_type": "stream",
     "text": [
      "<class 'bool'>\n"
     ]
    }
   ],
   "source": [
    "print(\"Boolean Data Type\")\n",
    "print(type(True))"
   ]
  },
  {
   "cell_type": "markdown",
   "id": "98d03efc-c471-4fd5-b35d-e03d0f970d37",
   "metadata": {},
   "source": [
    "## Operators: V25.01.09 -  V25.01.10"
   ]
  },
  {
   "cell_type": "markdown",
   "id": "644e6eee-1337-4453-ae41-2c1fedf1b27b",
   "metadata": {},
   "source": [
    "1. `Assignment Arithmatic Operator`"
   ]
  },
  {
   "cell_type": "code",
   "execution_count": 2,
   "id": "c95864e7-1c6f-4ca7-a619-a3e504936aaf",
   "metadata": {},
   "outputs": [
    {
     "name": "stdout",
     "output_type": "stream",
     "text": [
      "Assignment Arithmatic Operator\n",
      "Addition of two Number is:  4\n",
      "Subtraction of two Number is:  2\n",
      "Multiplication of two Number is:  4\n",
      "Division of two Number is:  2.0\n",
      "Floor Division of two Number is:  1.0\n",
      "Power of two Number is:  1.0\n"
     ]
    }
   ],
   "source": [
    "print(\"Assignment Arithmatic Operator\")\n",
    "num1 = int(input(\"Enter 1st Number: \"))\n",
    "num2 = int(input(\"Enter 2nd Number: \"))\n",
    "num1+=num2\n",
    "print(\"Addition of two Number is: \",num1)\n",
    "num1-=num2\n",
    "print(\"Subtraction of two Number is: \",num1)\n",
    "num1*=num2\n",
    "print(\"Multiplication of two Number is: \",num1)\n",
    "num1/=num2\n",
    "print(\"Division of two Number is: \",num1)\n",
    "num1//=num2\n",
    "print(\"Floor Division of two Number is: \",num1)\n",
    "num1**=num2\n",
    "print(\"Power of two Number is: \",num1)"
   ]
  },
  {
   "cell_type": "markdown",
   "id": "78c3b662-2f47-46da-ae8d-b5fd5aaa2f8f",
   "metadata": {},
   "source": [
    "2. `Relational Operator`"
   ]
  },
  {
   "cell_type": "code",
   "execution_count": 28,
   "id": "1ec4b6b7-a689-4460-bc95-b7807f7b25d8",
   "metadata": {},
   "outputs": [
    {
     "name": "stdout",
     "output_type": "stream",
     "text": [
      "Enter 1st Number:  7\n",
      "Enter 2nd Number:  5\n"
     ]
    },
    {
     "name": "stdout",
     "output_type": "stream",
     "text": [
      "True\n",
      "False\n",
      "True\n",
      "False\n",
      "False\n",
      "True\n"
     ]
    }
   ],
   "source": [
    "print(\"Relational Operator\")\n",
    "print(num1>=num2)\n",
    "print(num1<=num2)\n",
    "print(num1==num2)\n",
    "print(num1!=num2)"
   ]
  },
  {
   "cell_type": "markdown",
   "id": "f4493998-343a-4726-b34e-9b5040b705cc",
   "metadata": {},
   "source": [
    "3. `Logical Operator V25.01.10`"
   ]
  },
  {
   "cell_type": "code",
   "execution_count": 1,
   "id": "2d941016-da7f-4d0c-b96a-4418e3694e67",
   "metadata": {},
   "outputs": [
    {
     "name": "stdout",
     "output_type": "stream",
     "text": [
      "Logical Operator\n",
      "True\n",
      "True\n",
      "False\n"
     ]
    }
   ],
   "source": [
    "print(\"Logical Operator\")\n",
    "print(44>=33 and 44>=22)\n",
    "print(22<=22 or 33<=33)\n",
    "print(not True)"
   ]
  },
  {
   "cell_type": "markdown",
   "id": "580f29f0-a26e-402c-995d-ff34b57bb02a",
   "metadata": {},
   "source": [
    "4. `Bitwise Operator`"
   ]
  },
  {
   "cell_type": "code",
   "execution_count": 46,
   "id": "8555f1fa-e03e-489b-ac05-625bcf972fe0",
   "metadata": {},
   "outputs": [
    {
     "name": "stdout",
     "output_type": "stream",
     "text": [
      "0b1111\n",
      "11\n",
      "15\n",
      "4\n",
      "-12\n",
      "0b11\n",
      "0b111100\n",
      "3\n",
      "60\n"
     ]
    }
   ],
   "source": [
    "print(\"Bitwise Operator\")\n",
    "print(bin(15))\n",
    "print(1 & 1)\n",
    "print(15 | 11)\n",
    "print(15 ^ 11)\n",
    "print(~11)\n",
    "print(bin(15>>2))\n",
    "print(bin(15<<2))\n",
    "print(15>>2)\n",
    "print(15<<2)"
   ]
  },
  {
   "cell_type": "markdown",
   "id": "765a4393-841e-44a0-b820-db19f9d36b9a",
   "metadata": {},
   "source": [
    "5. `Membership Operator`"
   ]
  },
  {
   "cell_type": "code",
   "execution_count": 2,
   "id": "b7dc5b1e-a981-430b-b1f2-0fdb1269b2fe",
   "metadata": {},
   "outputs": [
    {
     "name": "stdout",
     "output_type": "stream",
     "text": [
      "Membership Operator:\n",
      "True\n"
     ]
    }
   ],
   "source": [
    "print(\"Membership Operator:\")\n",
    "a = \"ABCD\"\n",
    "print(\"A\" in a)"
   ]
  },
  {
   "cell_type": "markdown",
   "id": "1a79760c-6d90-440a-a04c-350f01817f72",
   "metadata": {},
   "source": [
    "6. `Identity Operator`"
   ]
  },
  {
   "cell_type": "code",
   "execution_count": 4,
   "id": "72758bd4-46be-4a91-b01c-0791ef73bf1e",
   "metadata": {},
   "outputs": [
    {
     "name": "stdout",
     "output_type": "stream",
     "text": [
      "Identity Operator:\n",
      "True\n"
     ]
    }
   ],
   "source": [
    "print(\"Identity Operator:\")\n",
    "a = \"ABCD\"\n",
    "b = \"ABCD\"\n",
    "print(a is b)"
   ]
  },
  {
   "cell_type": "markdown",
   "id": "96067119-e311-4763-b722-e2386bb967eb",
   "metadata": {},
   "source": [
    "## `Jupyter Installation: V25.01.13`"
   ]
  },
  {
   "cell_type": "markdown",
   "id": "16f1655a-a2a2-4d73-a653-367589d5e94c",
   "metadata": {},
   "source": [
    "## `Control Statement: V25.01.14`"
   ]
  },
  {
   "cell_type": "markdown",
   "id": "60210376-0297-4b69-9a5c-158f8157ed0c",
   "metadata": {},
   "source": [
    "1. `IF Statement`"
   ]
  },
  {
   "cell_type": "code",
   "execution_count": 4,
   "id": "d58e4ea5-bf7d-4460-8317-7ec2e3e09aa3",
   "metadata": {},
   "outputs": [
    {
     "name": "stdout",
     "output_type": "stream",
     "text": [
      "Welcome Guys!!\n"
     ]
    }
   ],
   "source": [
    "if True:\n",
    "    print(\"Welcome Guys!!\")"
   ]
  },
  {
   "cell_type": "code",
   "execution_count": 9,
   "id": "146b2228-f1c4-449d-85a3-b18eaa3b042b",
   "metadata": {},
   "outputs": [],
   "source": [
    "if False:\n",
    "    print(\"Welcome Guys!!\")\n",
    "    # Blanck!!  Print Nothing."
   ]
  },
  {
   "cell_type": "code",
   "execution_count": 10,
   "id": "5f472418-cdf6-430e-8d97-d23583c3e9b7",
   "metadata": {},
   "outputs": [
    {
     "name": "stdout",
     "output_type": "stream",
     "text": [
      "Welcome Guys!!\n"
     ]
    }
   ],
   "source": [
    "if 1:\n",
    "    print(\"Welcome Guys!!\")\n",
    "    # Truth Value"
   ]
  },
  {
   "cell_type": "code",
   "execution_count": 14,
   "id": "4b739df3-4bbf-4338-a71a-d8a6cc909ea2",
   "metadata": {},
   "outputs": [],
   "source": [
    "if 0:\n",
    "    print(\"Welcome Guys!!\")\n",
    "    # Blanck!!  Print Nothing. Falsy Value"
   ]
  },
  {
   "cell_type": "code",
   "execution_count": 16,
   "id": "9443d50c-4601-4ee6-a8cb-ff6a2ef90eb5",
   "metadata": {},
   "outputs": [],
   "source": [
    "if -0:\n",
    "    print(\"Welcome Guys!!\")\n",
    "    # Blanck!!  \n",
    "    # Print Nothing. \n",
    "    # Falsy Value\n",
    "    # Entity : Something that exist.\n",
    "    # -0 : Technicaly Wrong. "
   ]
  },
  {
   "cell_type": "markdown",
   "id": "bfe07cfa-0151-462e-bedf-2d1198a9a920",
   "metadata": {},
   "source": [
    "2. `If-Else Statement`"
   ]
  },
  {
   "cell_type": "code",
   "execution_count": 26,
   "id": "534f45dd-f9b6-4fba-ae08-7c8931f6a107",
   "metadata": {},
   "outputs": [
    {
     "name": "stdout",
     "output_type": "stream",
     "text": [
      "Welcome Guys!!\n"
     ]
    }
   ],
   "source": [
    "if True:\n",
    "    print(\"Welcome Guys!!\")\n",
    "else:\n",
    "    print(\"Bhaag...\")"
   ]
  },
  {
   "cell_type": "markdown",
   "id": "19abad6f-9095-47fc-aaec-607f485ce900",
   "metadata": {},
   "source": [
    "- `Question:` Accept a no from user and check if it is Even or Odd."
   ]
  },
  {
   "cell_type": "code",
   "execution_count": 22,
   "id": "8e8d7207-7a7c-4059-9609-af8ace7457db",
   "metadata": {},
   "outputs": [
    {
     "name": "stdout",
     "output_type": "stream",
     "text": [
      "Print Even or Odd Numbers.\n"
     ]
    },
    {
     "name": "stdin",
     "output_type": "stream",
     "text": [
      "Enter a Number:  5\n"
     ]
    },
    {
     "name": "stdout",
     "output_type": "stream",
     "text": [
      "5  is a Odd Number.\n"
     ]
    }
   ],
   "source": [
    "print(\"Print Even or Odd Numbers.\")\n",
    "num = int(input(\"Enter a Number: \"))\n",
    "if num%2 == 0 :\n",
    "    print(num,\" is a Even Number.\")\n",
    "else:\n",
    "    print(num,\" is a Odd Number.\")"
   ]
  },
  {
   "cell_type": "markdown",
   "id": "173f25d8-bdb0-4c5b-b2b4-fb30d90d97bb",
   "metadata": {},
   "source": [
    "- `Question:` Accept a no from user and check if it is divisible by 7 or 13."
   ]
  },
  {
   "cell_type": "code",
   "execution_count": 25,
   "id": "4a2f4c57-eb23-480b-a871-83457eb472f9",
   "metadata": {},
   "outputs": [
    {
     "name": "stdout",
     "output_type": "stream",
     "text": [
      "Check a number divisible by 7 or 13.\n"
     ]
    },
    {
     "name": "stdin",
     "output_type": "stream",
     "text": [
      "Enter a Number:  14\n"
     ]
    },
    {
     "name": "stdout",
     "output_type": "stream",
     "text": [
      "14  is divisible.\n"
     ]
    }
   ],
   "source": [
    "print(\"Check a number divisible by 7 or 13.\")\n",
    "num = int(input(\"Enter a Number: \"))\n",
    "if num%7 == 0 or num%13 ==0 :\n",
    "    print(num,\" is divisible.\")\n",
    "else:\n",
    "    print(num,\" is not divisible.\")"
   ]
  },
  {
   "cell_type": "markdown",
   "id": "16121976-2847-47f5-9e91-5f8cd270c40b",
   "metadata": {},
   "source": [
    "3. If-Elif Statement | If-Elif Ladder"
   ]
  },
  {
   "cell_type": "markdown",
   "id": "8f90ee59-d978-4478-b54f-597e75dbacd4",
   "metadata": {},
   "source": [
    "- `Question:` Accept a no from user and check if it is Greater, Smaller or Equal to 23. "
   ]
  },
  {
   "cell_type": "code",
   "execution_count": 30,
   "id": "e20372ea-94a3-45bf-83d6-24438928d80b",
   "metadata": {},
   "outputs": [
    {
     "name": "stdout",
     "output_type": "stream",
     "text": [
      "Check a Number is Greater, Smaller or Equal.\n"
     ]
    },
    {
     "name": "stdin",
     "output_type": "stream",
     "text": [
      "Enter a Number:  23\n"
     ]
    },
    {
     "name": "stdout",
     "output_type": "stream",
     "text": [
      "23  is a Equal to 23.\n"
     ]
    }
   ],
   "source": [
    "print(\"Check a Number is Greater, Smaller or Equal.\")\n",
    "num = int(input(\"Enter a Number: \"))\n",
    "if num>23:\n",
    "    print(num,\" is a Greater than 23.\")\n",
    "elif num==23:\n",
    "    print(num,\" is a Equal to 23.\")\n",
    "else:\n",
    "    print(num,\" is a Smaller than 23.\")"
   ]
  },
  {
   "cell_type": "markdown",
   "id": "4ab3920e-e596-4767-af82-04e0f18b7079",
   "metadata": {},
   "source": [
    "- `Question:` Accept a Budget from User. "
   ]
  },
  {
   "cell_type": "code",
   "execution_count": 35,
   "id": "6cd95b2c-c127-4f4c-b541-37ab4c5c9cd4",
   "metadata": {},
   "outputs": [
    {
     "name": "stdin",
     "output_type": "stream",
     "text": [
      "Enter your Budget:  1\n"
     ]
    },
    {
     "name": "stdout",
     "output_type": "stream",
     "text": [
      "Gully Trip.\n"
     ]
    }
   ],
   "source": [
    "budget = int(input(\"Enter your Budget: \"))\n",
    "if budget>=300 and budget<=500:\n",
    "    print(\"International Trip.\")\n",
    "elif budget>=200 and budget<=299:\n",
    "    print(\"National Trip.\")\n",
    "elif budget>=100 and budget<=199:\n",
    "    print(\"City Trip.\")\n",
    "elif budget>=50 and budget<=99:\n",
    "    print(\"Local Trip.\")\n",
    "elif budget>=1 and budget<=49:\n",
    "    print(\"Gully Trip.\")\n",
    "else:\n",
    "    print(\"Undefine Budget.\")"
   ]
  },
  {
   "cell_type": "markdown",
   "id": "5741bc02-e0ce-473b-9d45-c89bb0baf635",
   "metadata": {},
   "source": [
    "4. `Match Case`"
   ]
  },
  {
   "cell_type": "code",
   "execution_count": 40,
   "id": "14168cdb-d5c5-4bec-85c6-a56def814a42",
   "metadata": {},
   "outputs": [
    {
     "name": "stdout",
     "output_type": "stream",
     "text": [
      "Label 3\n"
     ]
    }
   ],
   "source": [
    "value = 3\n",
    "match value:\n",
    "    case 1:\n",
    "        print(\"Label 1\")\n",
    "    case 2:\n",
    "        print(\"Label 2\")\n",
    "    case 3:\n",
    "        print(\"Label 3\")\n",
    "    case _:\n",
    "        print(\"Default Case \")"
   ]
  }
 ],
 "metadata": {
  "kernelspec": {
   "display_name": "Python 3 (ipykernel)",
   "language": "python",
   "name": "python3"
  },
  "language_info": {
   "codemirror_mode": {
    "name": "ipython",
    "version": 3
   },
   "file_extension": ".py",
   "mimetype": "text/x-python",
   "name": "python",
   "nbconvert_exporter": "python",
   "pygments_lexer": "ipython3",
   "version": "3.12.3"
  }
 },
 "nbformat": 4,
 "nbformat_minor": 5
}
